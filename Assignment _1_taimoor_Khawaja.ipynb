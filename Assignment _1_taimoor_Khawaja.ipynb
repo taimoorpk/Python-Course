{
 "cells": [
  {
   "cell_type": "code",
   "execution_count": 1,
   "metadata": {},
   "outputs": [
    {
     "name": "stdout",
     "output_type": "stream",
     "text": [
      "Please enter First Number : 5\n",
      "\n",
      "Please enter Second Number: 6\n",
      "\n",
      "Please choose which operation do you want to perform !\n",
      "Please choose one of the given operatiosns +,-,/ or */\n",
      "\n",
      "\n",
      "The answer of '/' operation at 5,6 is 0.8333333333333334\n"
     ]
    }
   ],
   "source": [
    "\n",
    "num1= input(\"Please enter First Number : \")\n",
    "print()\n",
    "num2= input(\"Please enter Second Number: \")\n",
    "print()\n",
    "num1 = int(num1)\n",
    "num2= int(num2)\n",
    "\n",
    "print(\"Please choose which operation do you want to perform !\")\n",
    "\n",
    "\n",
    "func_choosed = input(\"Please choose one of the given operatiosns +,-,/ or *\")\n",
    "\n",
    "\n",
    "result = 0\n",
    "\n",
    "if func_choosed == \"+\":\n",
    "    result = num1 + num2\n",
    "\n",
    "elif func_choosed == \"-\":\n",
    "    result = num1-num2\n",
    "\n",
    "elif func_choosed == \"*\":\n",
    "    result= num1 * num2\n",
    "\n",
    "elif func_choosed == \"/\":\n",
    "    if num2 > 0:\n",
    "           result = num1 / num2\n",
    "    else:\n",
    "        print(\"You have entered invalid input\")\n",
    "        print(\"Please enter Second number greater than '0' \")\n",
    "        \n",
    "\n",
    "else:\n",
    "      print(\"Check your inputs and Make sure you have given valid inputs\")\n",
    "print()\n",
    "print()\n",
    "print(\"The answer of '{}' operation at {},{} is {}\".format(func_choosed,num1,num2,result))\n",
    "\n"
   ]
  },
  {
   "cell_type": "code",
   "execution_count": null,
   "metadata": {},
   "outputs": [],
   "source": []
  },
  {
   "cell_type": "code",
   "execution_count": null,
   "metadata": {},
   "outputs": [],
   "source": []
  }
 ],
 "metadata": {
  "kernelspec": {
   "display_name": "Python 3",
   "language": "python",
   "name": "python3"
  },
  "language_info": {
   "codemirror_mode": {
    "name": "ipython",
    "version": 3
   },
   "file_extension": ".py",
   "mimetype": "text/x-python",
   "name": "python",
   "nbconvert_exporter": "python",
   "pygments_lexer": "ipython3",
   "version": "3.7.3"
  }
 },
 "nbformat": 4,
 "nbformat_minor": 2
}
